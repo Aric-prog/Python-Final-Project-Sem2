{
 "cells": [
  {
   "cell_type": "markdown",
   "metadata": {},
   "source": [
    "# Descriptive Statistics"
   ]
  },
  {
   "cell_type": "markdown",
   "metadata": {},
   "source": [
    "Descriptive statistics is a way for us to summarize the data that we have obtained"
   ]
  },
  {
   "cell_type": "markdown",
   "metadata": {},
   "source": [
    "It does this in several ways\n",
    "<li>\n",
    "    <ul>1. Data summary</ul>\n",
    "    <ul>2. Central tendency</ul>\n",
    "    <ul>3. Measures of variability</ul>\n",
    "</li>"
   ]
  },
  {
   "cell_type": "code",
   "execution_count": 1,
   "metadata": {
    "scrolled": true
   },
   "outputs": [],
   "source": [
    "%matplotlib inline\n",
    "import ipywidgets as widgets\n",
    "import numpy as np\n",
    "import matplotlib.pyplot as plt\n",
    "import random\n",
    "\n",
    "plt.style.use('classic')"
   ]
  },
  {
   "cell_type": "code",
   "execution_count": 2,
   "metadata": {
    "scrolled": true
   },
   "outputs": [
    {
     "data": {
      "application/vnd.jupyter.widget-view+json": {
       "model_id": "24cf2c281d3e439ab337a335ab2ac167",
       "version_major": 2,
       "version_minor": 0
      },
      "text/plain": [
       "interactive(children=(IntSlider(value=10, continuous_update=False, description='Data amount:'), Output()), _do…"
      ]
     },
     "metadata": {},
     "output_type": "display_data"
    }
   ],
   "source": [
    "# Code to initialize slider and show it\n",
    "slider = widgets.IntSlider(value=10,\n",
    "                              min=0,\n",
    "                              max=100,\n",
    "                              step=1,\n",
    "                              description='Data amount:',\n",
    "                              disabled=False,\n",
    "                              continuous_update=False,\n",
    "                              orientation='horizontal'\n",
    "                              )\n",
    "\n",
    "def raw(number):\n",
    "    return number\n",
    "\n",
    "widgets.interact(raw, number=slider);\n"
   ]
  },
  {
   "cell_type": "markdown",
   "metadata": {},
   "source": [
    "<h2>Below shows the various representation of data</h2> <br>\n",
    "<li style = \"list-style : square;\">\n",
    "    <ol>Bar chart</ol>\n",
    "    <ol>Scatter plot</ol>\n",
    "    <ol>Line chart</ol>\n",
    "</li>\n",
    "The data is randomly generated from zero to fifty "
   ]
  },
  {
   "cell_type": "code",
   "execution_count": 3,
   "metadata": {
    "scrolled": true
   },
   "outputs": [
    {
     "data": {
      "image/png": "[encoded data removed]",
      "text/plain": [
       "<Figure size 640x480 with 3 Axes>"
      ]
     },
     "metadata": {},
     "output_type": "display_data"
    }
   ],
   "source": [
    "data = []\n",
    "def initializeData(amount):\n",
    "    for i in range(amount):\n",
    "        data.append(random.randint(0,50))\n",
    "\n",
    "data.sort()\n",
    "fig = plt.figure(1); plt.clf()\n",
    "initializeData(slider.value)\n",
    "\n",
    "ax = fig.add_subplot(311)\n",
    "ax.hist(data)\n",
    "\n",
    "ax1 = fig.add_subplot(312)\n",
    "ax1.plot(range(len(data)), data,'o')\n",
    "\n",
    "ax2 = fig.add_subplot(313)\n",
    "ax2.plot(range(len(data)), data,'-')\n",
    "plt.xlabel('Index')\n",
    "plt.show()"
   ]
  },
  {
   "cell_type": "code",
   "execution_count": 10,
   "metadata": {},
   "outputs": [
    {
     "name": "stdout",
     "output_type": "stream",
     "text": [
      "Enter a number :a\n"
     ]
    },
    {
     "data": {
      "text/plain": [
       "<Figure size 640x480 with 0 Axes>"
      ]
     },
     "metadata": {},
     "output_type": "display_data"
    }
   ],
   "source": [
    "inputData = 0\n",
    "inputtedData = []\n",
    "plt.ion()\n",
    "while(isinstance(inputData,int)):\n",
    "    try:\n",
    "        inputData = int(input(\"Enter a number :\"))\n",
    "        inputtedData.append(inputData)\n",
    "        \n",
    "        mean = np.mean(inputtedData)\n",
    "        standardD = np.std(inputtedData)\n",
    "        plt.plot(range(len(inputtedData)),inputtedData,'o')\n",
    "        plt.plot([0,len(inputtedData)],[mean,mean])\n",
    "        plt.plot([0,len(inputtedData)],[mean + standardD, mean + standardD],'r')\n",
    "        plt.plot([0,len(inputtedData)],[mean - standardD, mean - standardD],'r')\n",
    "        plt.draw()\n",
    "        plt.pause(0.001)\n",
    "        plt.clf()\n",
    "    except:\n",
    "        break\n",
    "plt.cla()\n",
    "plt.clf()\n"
   ]
  },
  {
   "cell_type": "code",
   "execution_count": 52,
   "metadata": {},
   "outputs": [
    {
     "data": {
      "application/vnd.jupyter.widget-view+json": {
       "model_id": "75c66941bdde425b8e8ab23211711aba",
       "version_major": 2,
       "version_minor": 0
      },
      "text/plain": [
       "interactive(children=(IntSlider(value=1, continuous_update=False, description='Data amount:', max=5000), Outpu…"
      ]
     },
     "metadata": {},
     "output_type": "display_data"
    }
   ],
   "source": [
    "normalDistSampleAmount = widgets.IntSlider(value=1,\n",
    "                              min=0,\n",
    "                              max=5000,\n",
    "                              step=1,\n",
    "                              description='Data amount:',\n",
    "                              disabled=False,\n",
    "                              continuous_update=False,\n",
    "                              orientation='horizontal'\n",
    "                              )\n",
    "\n",
    "widgets.interact(raw, number=normalDistSampleAmount);"
   ]
  },
  {
   "cell_type": "markdown",
   "metadata": {},
   "source": [
    "The cell below will create 'x' amounts of data (based on the slider) with a mean of 0 and standard deviation of one. <br>\n",
    "It will then create a histogram based on that data"
   ]
  },
  {
   "cell_type": "code",
   "execution_count": 53,
   "metadata": {
    "scrolled": true
   },
   "outputs": [],
   "source": [
    "from scipy import stats\n",
    "\n",
    "X = stats.norm(loc=0, scale = 1)\n",
    "samples = X.rvs(normalDistSampleAmount.value)"
   ]
  },
  {
   "cell_type": "markdown",
   "metadata": {},
   "source": [
    "It will then create a line to show the normal distribution of the graph."
   ]
  },
  {
   "cell_type": "code",
   "execution_count": 54,
   "metadata": {},
   "outputs": [
    {
     "data": {
      "image/png": "[encoded data removed]",
      "text/plain": [
       "<Figure size 640x480 with 1 Axes>"
      ]
     },
     "metadata": {},
     "output_type": "display_data"
    }
   ],
   "source": [
    "plt.clf()\n",
    "plt.hist(samples,density = True, bins = 100)\n",
    "plt.plot(np.linspace(-3,3,1000), X.pdf(np.linspace(-3,3,1000)))\n",
    "plt.show()"
   ]
  },
  {
   "cell_type": "markdown",
   "metadata": {},
   "source": [
    "# Inferential Statistics"
   ]
  },
  {
   "cell_type": "markdown",
   "metadata": {},
   "source": [
    "Inferential Statistics takes a small data set that is a part of a much larger data set to draw conclusions about the much larger data set"
   ]
  },
  {
   "cell_type": "code",
   "execution_count": 6,
   "metadata": {},
   "outputs": [
    {
     "data": {
      "application/vnd.jupyter.widget-view+json": {
       "model_id": "9806c51598ce40dbb14430948fc16e39",
       "version_major": 2,
       "version_minor": 0
      },
      "text/plain": [
       "interactive(children=(IntSlider(value=50, continuous_update=False, description='Data amount:'), Output()), _do…"
      ]
     },
     "metadata": {},
     "output_type": "display_data"
    },
    {
     "data": {
      "application/vnd.jupyter.widget-view+json": {
       "model_id": "7b54e53311f84048bd9fdd153a4d7e6f",
       "version_major": 2,
       "version_minor": 0
      },
      "text/plain": [
       "interactive(children=(IntSlider(value=50, continuous_update=False, description='Sample size :', max=500, min=1…"
      ]
     },
     "metadata": {},
     "output_type": "display_data"
    },
    {
     "data": {
      "text/plain": [
       "<function __main__.raw(number)>"
      ]
     },
     "execution_count": 6,
     "metadata": {},
     "output_type": "execute_result"
    }
   ],
   "source": [
    "amountSlider = widgets.IntSlider(value=50,\n",
    "                              min=0,\n",
    "                              max=100,\n",
    "                              step=1,\n",
    "                              description='Data amount:',\n",
    "                              disabled=False,\n",
    "                              continuous_update=False,\n",
    "                              orientation='horizontal'\n",
    "                              )\n",
    "\n",
    "sampleSizeSlider = widgets.IntSlider(value=50,\n",
    "                              min=1,\n",
    "                              max=500,\n",
    "                              step=1,\n",
    "                              description='Sample size :',\n",
    "                              disabled=False,\n",
    "                              continuous_update=False,\n",
    "                              orientation='horizontal'\n",
    "                              )\n",
    "widgets.interact(raw, number=amountSlider)\n",
    "widgets.interact(raw, number=sampleSizeSlider)"
   ]
  },
  {
   "cell_type": "markdown",
   "metadata": {},
   "source": [
    "With a large data set, we can use inferential statistics by taking a smaller sample size and applying what we find from that smaller sample size to the whole data set. In this example, I am trying to figure out what is the ratio of female participants to male participants. The results of the inferential statistics can be found below."
   ]
  },
  {
   "cell_type": "code",
   "execution_count": 1,
   "metadata": {
    "scrolled": true
   },
   "outputs": [
    {
     "ename": "NameError",
     "evalue": "name 'amountSlider' is not defined",
     "output_type": "error",
     "traceback": [
      "\u001b[1;31m---------------------------------------------------------------------------\u001b[0m",
      "\u001b[1;31mNameError\u001b[0m                                 Traceback (most recent call last)",
      "\u001b[1;32m<ipython-input-1-27bbe60fa529>\u001b[0m in \u001b[0;36m<module>\u001b[1;34m\u001b[0m\n\u001b[0;32m     18\u001b[0m \u001b[1;31m#     else:\u001b[0m\u001b[1;33m\u001b[0m\u001b[1;33m\u001b[0m\u001b[1;33m\u001b[0m\u001b[0m\n\u001b[0;32m     19\u001b[0m \u001b[1;31m#         heightDataF.append(int(line[1]))\u001b[0m\u001b[1;33m\u001b[0m\u001b[1;33m\u001b[0m\u001b[1;33m\u001b[0m\u001b[0m\n\u001b[1;32m---> 20\u001b[1;33m \u001b[1;32mfor\u001b[0m \u001b[0mi\u001b[0m \u001b[1;32min\u001b[0m \u001b[0mrange\u001b[0m\u001b[1;33m(\u001b[0m\u001b[0mamountSlider\u001b[0m\u001b[1;33m.\u001b[0m\u001b[0mvalue\u001b[0m\u001b[1;33m)\u001b[0m\u001b[1;33m:\u001b[0m\u001b[1;33m\u001b[0m\u001b[1;33m\u001b[0m\u001b[0m\n\u001b[0m\u001b[0;32m     21\u001b[0m     \u001b[0mweightDataTemp\u001b[0m \u001b[1;33m=\u001b[0m \u001b[0mweightData\u001b[0m \u001b[1;33m*\u001b[0m \u001b[1;36m1\u001b[0m\u001b[1;33m\u001b[0m\u001b[1;33m\u001b[0m\u001b[0m\n\u001b[0;32m     22\u001b[0m \u001b[1;33m\u001b[0m\u001b[0m\n",
      "\u001b[1;31mNameError\u001b[0m: name 'amountSlider' is not defined"
     ]
    }
   ],
   "source": [
    "import scipy.stats as stats\n",
    "import math\n",
    "import random\n",
    "\n",
    "weightDataM = []\n",
    "weightDataF = []\n",
    "weightData = []\n",
    "weightDataTemp = []\n",
    "female_percent = 0\n",
    "female_percent_list = []\n",
    "with open('data.csv') as fp:\n",
    "  lines = fp.readlines()\n",
    "  for i in lines:\n",
    "    line = i.split(',')\n",
    "    weightData.append([line[0], int(line[1])])\n",
    "#     if(line[0] == 'Male'):\n",
    "#       heightDataM.append(int(line[1]))\n",
    "#     else:\n",
    "#         heightDataF.append(int(line[1]))\n",
    "for i in range(amountSlider.value):\n",
    "    weightDataTemp = weightData * 1\n",
    "    \n",
    "    for i in range(sampleSizeSlider.value):\n",
    "        single_data = weightDataTemp.pop(random.randrange(0, len(weightDataTemp)))\n",
    "        if(single_data[0] == 'Male'):\n",
    "            weightDataM.append(single_data[0])\n",
    "        else:\n",
    "            weightDataF.append(single_data[0])\n",
    "\n",
    "    female_percent_list.append((len(weightDataF)/(len(weightDataM) + len(weightDataF))))\n",
    "    \n",
    "    \n",
    "print(len(female_percent_list))\n",
    "plt.hist(female_percent_list, bins=20)\n",
    "plt.xlabel('Ratio of Females to Males')"
   ]
  },
  {
   "cell_type": "markdown",
   "metadata": {},
   "source": [
    "above is the test for the margin of error to see if drawing a conclusion about that particular data set is true or not, the true value for the ratio of Females to Males is 0.51. In the test above sample sizes were taken from the total of 500 and when each of the samples were taken, the value of the ratio is calculated. We can see that the value of the ratio is/near 0.51 and never goes past a certain threshold. Therefore assumptions can be made with that data set."
   ]
  }
 ],
 "metadata": {
  "kernelspec": {
   "display_name": "Python 3",
   "language": "python",
   "name": "python3"
  },
  "language_info": {
   "codemirror_mode": {
    "name": "ipython",
    "version": 3
   },
   "file_extension": ".py",
   "mimetype": "text/x-python",
   "name": "python",
   "nbconvert_exporter": "python",
   "pygments_lexer": "ipython3",
   "version": "3.7.6"
  }
 },
 "nbformat": 4,
 "nbformat_minor": 4
}
